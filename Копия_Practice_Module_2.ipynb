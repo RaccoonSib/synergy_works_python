{
  "nbformat": 4,
  "nbformat_minor": 0,
  "metadata": {
    "colab": {
      "provenance": [],
      "toc_visible": true,
      "include_colab_link": true
    },
    "kernelspec": {
      "name": "python3",
      "display_name": "Python 3"
    },
    "language_info": {
      "name": "python"
    }
  },
  "cells": [
    {
      "cell_type": "markdown",
      "metadata": {
        "id": "view-in-github",
        "colab_type": "text"
      },
      "source": [
        "<a href=\"https://colab.research.google.com/github/RaccoonSib/synergy_works_python/blob/main/%D0%9A%D0%BE%D0%BF%D0%B8%D1%8F_Practice_Module_2.ipynb\" target=\"_parent\"><img src=\"https://colab.research.google.com/assets/colab-badge.svg\" alt=\"Open In Colab\"/></a>"
      ]
    },
    {
      "cell_type": "markdown",
      "source": [
        "## Практика. Модуль 2\n",
        "\n",
        "Давайте обратимся к практическим аспектам, которые мы рассмотрели в этом модуле. Для этого поэтапно реализуем класс Wallet, который представляет собой объекты вида «Кошелёк». В объекте-кошельке будем хранить имя владельца, а также денежные средства в различных валютах.\n",
        "\n",
        "Для начала опишем атрибуты и методы класса:\n",
        "* атрибут owner_name: имя владельца;\n",
        "* атрибут assets типа dict: активы человека в различных валютах.\n",
        "\n",
        "Пример:\n",
        "\n",
        "assets = {'RUB': 0.0, 'USD': 0.0, 'EUR': 0.0}\n",
        "* метод $__init__$: инициализация кошелька;\n",
        "* метод $__float__$: нахождение общей стоимости активов в рублях;\n",
        "* метод $__int__$: количество активов с ненулевой стоимостью;\n",
        "* метод $__bool__$: возвращает True, если **все** активы имеют ненулевой баланс;\n",
        "* метод $__eq__$: возвращает True, если у сравниваемых кошельков self и other одинаковая стоимость активов (в рублях);\n",
        "* метод $__lt__$: возвращает True, если стоимость активов self меньше, чем стоимость активов other (в рублях);\n",
        "* метод $__gt__$: возвращает True, если стоимость активов self больше, чем стоимость активов other (в рублях);\n",
        "* метод $__sub__$: вычитание кортежа вида ('RUB', 100), при котором из актива RUB вычитается 100 единиц;\n",
        "* метод $__add__$: позволяет добавить кортеж вида ('RUB', 100) и тем самым увеличить актив RUB на 100 единиц; второй вариант использования — объединение двух кошельков self и other, при котором новый кошелёк принадлежит владельцу self, а активы суммируются из обоих кошельков;\n",
        "* метод $__iter__$: возвращает итератор списка кортежей, состоящий из активов, упорядоченных по возрастанию стоимости (в рублях);\n",
        "* метод $__getitem__$: возвращает размер актива по ключу вида self['RUB'];\n",
        "* метод $__setitem__$: позволяет установить размер актива путём присваивания вида self['RUB']=100.\n",
        "\n",
        "В ходе реализации этих методов мы ещё раз вернёмся к основам объектно-ориентированного программирования и возможностям Python в рамках парадигмы функционального программирования, а также поработаем с последовательностями и их обработкой."
      ],
      "metadata": {
        "id": "gNJRMIiwiCNh"
      }
    },
    {
      "cell_type": "code",
      "source": [
        "class Wallet:\n",
        "  convert = {'RUB': 1, 'USD': 62.1, 'EUR': 69.7}  # по состоянию на 1 января 2020 г.\n",
        "\n",
        "  def __init__(self, owner_name, **assets):\n",
        "    if not isinstance(owner_name, str):\n",
        "      raise ValueError('Имя владельца должно быть строковым типом')\n",
        "\n",
        "    self.owner_name = owner_name\n",
        "    self.assets = assets\n",
        "\n",
        "  def __iter__(self):\n",
        "    for asset, size in self.assets.items():\n",
        "      yield(asset, size)\n",
        "\n",
        "  def __str__(self):\n",
        "    asset_strings = [f\"{amount} {currency}\" for currency, amount in self.assets.items()]\n",
        "    assets_representation = ', '.join(asset_strings) if asset_strings else \"Нет активов\"\n",
        "    return f\"{self.owner_name}: {assets_representation}\"\n",
        "\n",
        "  def __float__(self):\n",
        "    total_value = 0.0\n",
        "    for currency, amount in self.assets.items():\n",
        "      if currency in self.convert:\n",
        "        total_value += amount * self.convert[currency]\n",
        "      else:\n",
        "        raise ValueError(f\"Неизвестная валюта: {currency}\")\n",
        "    return total_value\n",
        "\n",
        "  def __int__(self):\n",
        "    non_zero_assets_count = sum(1 for amount in self.assets.values() if amount > 0)\n",
        "    return non_zero_assets_count\n",
        "\n",
        "  def __bool__(self):\n",
        "    return all(amount > 0 for amount in self.assets.values())\n",
        "\n",
        "  def __eq__(self, other):\n",
        "    if not isinstance(other, Wallet):\n",
        "      return NotImplemented\n",
        "    return float(self) == float(other)\n",
        "\n",
        "  def __lt__(self, other):\n",
        "    if not isinstance(other, Wallet):\n",
        "      return NotImplemented\n",
        "    return float(self) < float(other)\n",
        "\n",
        "  def __gt__(self, other):\n",
        "    if not isinstance(other, Wallet):\n",
        "      return NotImplemented\n",
        "    return float(self) > float(other)\n",
        "\n",
        "  def __sub__(self, asset):\n",
        "    currency, amount_to_subtract = asset\n",
        "    if currency not in self.assets or self.assets[currency] < amount_to_subtract:\n",
        "      raise ValueError(\"Недостаточно средств\")\n",
        "\n",
        "    # Вычитаем актив\n",
        "    self.assets[currency] -= amount_to_subtract\n",
        "\n",
        "    # Удаляем валюту, если сумма стала нулевой или отрицательной\n",
        "    if self.assets[currency] <= 0:\n",
        "      del self.assets[currency]\n",
        "\n",
        "    return self\n",
        "\n",
        "  def __add__(self, other):\n",
        "    # Сложение с кортежем\n",
        "    if isinstance(other, tuple) and len(other) == 2:\n",
        "      currency, amount_to_add = other\n",
        "      if currency in self.assets:\n",
        "        self.assets[currency] += amount_to_add\n",
        "      else:\n",
        "        self.assets[currency] = amount_to_add\n",
        "      return self\n",
        "\n",
        "    # Объединение кошельков\n",
        "    elif isinstance(other, Wallet):\n",
        "      for currency, amount in other.assets.items():\n",
        "        if currency in self.assets:\n",
        "          self.assets[currency] += amount\n",
        "        else:\n",
        "          self.assets[currency] = amount\n",
        "      return self\n",
        "\n",
        "    return NotImplemented\n",
        "\n",
        "  def __getitem__(self, currency):\n",
        "    if currency in self.assets:\n",
        "      return self.assets[currency]\n",
        "    raise KeyError(f\"Валюта '{currency}' не найдена в кошельке.\")\n",
        "\n",
        "  def __setitem__(self, currency, amount):\n",
        "    if amount < 0:\n",
        "      raise ValueError(\"Сумма не может быть отрицательной.\")\n",
        "\n",
        "    self.assets[currency] = amount"
      ],
      "metadata": {
        "id": "gzyO2n9Ss8Ar"
      },
      "execution_count": 155,
      "outputs": []
    },
    {
      "cell_type": "markdown",
      "source": [
        "## Задание 1. Инициализация\n",
        "\n",
        "Сначала создадим метод инициализации объекта Wallet. В конструкторе проверим, что в аргументе owner_name находится строка, а также атрибуту assets присвоим словарь в соответствии с описанием из начала этого jupyter notebook.\n",
        "\n",
        "Если в аргументе owner_name указана не строковая переменная, то необходимо вызвать исключение ValueError с текстом \"Имя владельца должно быть строковым типом\".\n",
        "\n",
        "Добавьте код в метод $__init__()$ и запустите ячейку ниже."
      ],
      "metadata": {
        "id": "LH0493FfqMoe"
      }
    },
    {
      "cell_type": "code",
      "execution_count": 85,
      "metadata": {
        "id": "0Maarqcth73w",
        "colab": {
          "base_uri": "https://localhost:8080/"
        },
        "outputId": "e71ad2bc-fb8f-4a89-f116-edfb1ac08b46"
      },
      "outputs": [
        {
          "output_type": "stream",
          "name": "stdout",
          "text": [
            "{'RUB': 50000, 'USD': 250, 'EUR': 900}\n"
          ]
        }
      ],
      "source": [
        "ivan_wallet = Wallet(owner_name=\"Иван Иванов\")\n",
        "petr_wallet = Wallet(owner_name=\"Петр Петров\",\n",
        "                     RUB = 50000,\n",
        "                     USD = 250,\n",
        "                     EUR = 900)\n",
        "alex_wallet = Wallet(owner_name=\"Алексей Алексеев\",\n",
        "                     RUB = 100000,\n",
        "                     USD = 0,\n",
        "                     EUR = 0)\n",
        "print(petr_wallet.assets)"
      ]
    },
    {
      "cell_type": "markdown",
      "source": [
        "Вывод этой ячейки должен быть:\n",
        "\n",
        "{'RUB': 50000, 'USD': 250, 'EUR': 300}"
      ],
      "metadata": {
        "id": "JnSKPWKz6ZpS"
      }
    },
    {
      "cell_type": "code",
      "source": [
        "error_wallet = Wallet(owner_name=[\"Сергей\", \"Сергеев\"],\n",
        "                     RUB = 20000,\n",
        "                     USD = 400,\n",
        "                     EUR = 170)"
      ],
      "metadata": {
        "id": "70O56MUQ7D1L",
        "colab": {
          "base_uri": "https://localhost:8080/",
          "height": 315
        },
        "outputId": "c8c7a7d8-e5a1-441e-99cd-1659212cdf54"
      },
      "execution_count": 86,
      "outputs": [
        {
          "output_type": "error",
          "ename": "ValueError",
          "evalue": "Имя владельца должно быть строковым типом",
          "traceback": [
            "\u001b[0;31m---------------------------------------------------------------------------\u001b[0m",
            "\u001b[0;31mValueError\u001b[0m                                Traceback (most recent call last)",
            "\u001b[0;32m<ipython-input-86-0b075c6496da>\u001b[0m in \u001b[0;36m<cell line: 1>\u001b[0;34m()\u001b[0m\n\u001b[0;32m----> 1\u001b[0;31m error_wallet = Wallet(owner_name=[\"Сергей\", \"Сергеев\"],\n\u001b[0m\u001b[1;32m      2\u001b[0m                      \u001b[0mRUB\u001b[0m \u001b[0;34m=\u001b[0m \u001b[0;36m20000\u001b[0m\u001b[0;34m,\u001b[0m\u001b[0;34m\u001b[0m\u001b[0;34m\u001b[0m\u001b[0m\n\u001b[1;32m      3\u001b[0m                      \u001b[0mUSD\u001b[0m \u001b[0;34m=\u001b[0m \u001b[0;36m400\u001b[0m\u001b[0;34m,\u001b[0m\u001b[0;34m\u001b[0m\u001b[0;34m\u001b[0m\u001b[0m\n\u001b[1;32m      4\u001b[0m                      EUR = 170)\n",
            "\u001b[0;32m<ipython-input-84-817cad5adc67>\u001b[0m in \u001b[0;36m__init__\u001b[0;34m(self, owner_name, **assets)\u001b[0m\n\u001b[1;32m      4\u001b[0m   \u001b[0;32mdef\u001b[0m \u001b[0m__init__\u001b[0m\u001b[0;34m(\u001b[0m\u001b[0mself\u001b[0m\u001b[0;34m,\u001b[0m \u001b[0mowner_name\u001b[0m\u001b[0;34m,\u001b[0m \u001b[0;34m**\u001b[0m\u001b[0massets\u001b[0m\u001b[0;34m)\u001b[0m\u001b[0;34m:\u001b[0m\u001b[0;34m\u001b[0m\u001b[0;34m\u001b[0m\u001b[0m\n\u001b[1;32m      5\u001b[0m     \u001b[0;32mif\u001b[0m \u001b[0;32mnot\u001b[0m \u001b[0misinstance\u001b[0m\u001b[0;34m(\u001b[0m\u001b[0mowner_name\u001b[0m\u001b[0;34m,\u001b[0m \u001b[0mstr\u001b[0m\u001b[0;34m)\u001b[0m\u001b[0;34m:\u001b[0m\u001b[0;34m\u001b[0m\u001b[0;34m\u001b[0m\u001b[0m\n\u001b[0;32m----> 6\u001b[0;31m       \u001b[0;32mraise\u001b[0m \u001b[0mValueError\u001b[0m\u001b[0;34m(\u001b[0m\u001b[0;34m'Имя владельца должно быть строковым типом'\u001b[0m\u001b[0;34m)\u001b[0m\u001b[0;34m\u001b[0m\u001b[0;34m\u001b[0m\u001b[0m\n\u001b[0m\u001b[1;32m      7\u001b[0m \u001b[0;34m\u001b[0m\u001b[0m\n\u001b[1;32m      8\u001b[0m     \u001b[0mself\u001b[0m\u001b[0;34m.\u001b[0m\u001b[0mowner_name\u001b[0m \u001b[0;34m=\u001b[0m \u001b[0mowner_name\u001b[0m\u001b[0;34m\u001b[0m\u001b[0;34m\u001b[0m\u001b[0m\n",
            "\u001b[0;31mValueError\u001b[0m: Имя владельца должно быть строковым типом"
          ]
        }
      ]
    },
    {
      "cell_type": "markdown",
      "source": [
        "После запуска ячейки вы должны увидеть исключение ValueError."
      ],
      "metadata": {
        "id": "1T-iY7ju7XQ5"
      }
    },
    {
      "cell_type": "markdown",
      "source": [
        "## Задание 2. Итераторы\n",
        "\n",
        "Создайте итератор кошелька, который будет возвращать кортежи из двух элементов (актив, размер актива). Для этого воспользуйтесь компактной записью генератора.\n",
        "\n",
        "\n",
        "Добавьте код в метод $__iter__()$ и запустите ячейку ниже."
      ],
      "metadata": {
        "id": "zxB2sSs56YiP"
      }
    },
    {
      "cell_type": "code",
      "source": [
        "petr_wallet = Wallet(owner_name=\"Петр Петров\",\n",
        "                     RUB = 50000,\n",
        "                     USD = 250,\n",
        "                     EUR = 900)\n",
        "\n",
        "for asset, size in petr_wallet:\n",
        "  print(f\"Asset: {asset}. Size: {size}\")"
      ],
      "metadata": {
        "id": "2shPcmgQYMcE",
        "colab": {
          "base_uri": "https://localhost:8080/"
        },
        "outputId": "39999fcb-b958-492d-f06b-40f766bd568c"
      },
      "execution_count": 104,
      "outputs": [
        {
          "output_type": "stream",
          "name": "stdout",
          "text": [
            "Asset: RUB. Size: 50000\n",
            "Asset: USD. Size: 250\n",
            "Asset: EUR. Size: 900\n"
          ]
        }
      ]
    },
    {
      "cell_type": "markdown",
      "source": [
        "Вывод ячейки должен быть следующим:\n",
        "\n",
        "Asset: RUB. Size: 50000\n",
        "\n",
        "Asset: USD. Size: 250\n",
        "\n",
        "Asset: EUE. Size: 900"
      ],
      "metadata": {
        "id": "GIVumF2nYYoV"
      }
    },
    {
      "cell_type": "markdown",
      "source": [
        "## Задание 3. Преобразование к строкам\n",
        "\n",
        "Реализуйте функцию получения строкового представления объекта-кошелька.\n",
        "\n",
        "\n",
        "Добавьте код в метод $__str__()$ и запустите ячейку ниже."
      ],
      "metadata": {
        "id": "VYp4W7Y1YpC1"
      }
    },
    {
      "cell_type": "code",
      "source": [
        "petr_wallet = Wallet(owner_name=\"Петр Петров\",\n",
        "                     RUB = 50000,\n",
        "                     USD = 250,\n",
        "                     EUR = 900)\n",
        "\n",
        "print(str(petr_wallet))"
      ],
      "metadata": {
        "id": "_gRf8k1gYn_s",
        "colab": {
          "base_uri": "https://localhost:8080/"
        },
        "outputId": "627ffaa8-e250-4828-8577-a8e13bf9a4d4"
      },
      "execution_count": 117,
      "outputs": [
        {
          "output_type": "stream",
          "name": "stdout",
          "text": [
            "Петр Петров: 50000 RUB, 250 USD, 900 EUR\n"
          ]
        }
      ]
    },
    {
      "cell_type": "markdown",
      "source": [
        "Вывод ячейки должен быть следующим:\n",
        "\n",
        "Петр Петров: 50000 RUB, 250 USD, 900 EUR"
      ],
      "metadata": {
        "id": "KH9DEytkZH_k"
      }
    },
    {
      "cell_type": "markdown",
      "source": [
        "## Задание 4. Преобразование к числам с плавающей точкой\n",
        "\n",
        "Теперь преобразуем наш объект-кошелёк в число с плавающей точкой. Для этого нам необходимо найти общую стоимость активов, конвертированных в рубли. Курс конвертации хранится в переменной convert класса Wallet.\n",
        "\n",
        "\n",
        "\n",
        "Добавьте код в метод $__float__()$ и запустите ячейку ниже."
      ],
      "metadata": {
        "id": "TnAx8FA4ZX66"
      }
    },
    {
      "cell_type": "code",
      "source": [
        "petr_wallet = Wallet(owner_name=\"Петр Петров\",\n",
        "                     RUB = 50000,\n",
        "                     USD = 250,\n",
        "                     EUR = 900)\n",
        "\n",
        "print(float(petr_wallet))"
      ],
      "metadata": {
        "id": "AjfLFQrSbeHV",
        "colab": {
          "base_uri": "https://localhost:8080/"
        },
        "outputId": "09f69228-9963-415e-c8e6-4eeacfd9561d"
      },
      "execution_count": 120,
      "outputs": [
        {
          "output_type": "stream",
          "name": "stdout",
          "text": [
            "128255.0\n"
          ]
        }
      ]
    },
    {
      "cell_type": "markdown",
      "source": [
        "Вывод ячейки должен быть: 128255.0"
      ],
      "metadata": {
        "id": "QgLl42_mbsJO"
      }
    },
    {
      "cell_type": "markdown",
      "source": [
        "## Задание 5. Преобразование к целым числам\n",
        "\n",
        "Для преобразования объекта-кошелька к целым числам найдём количество активов с ненулевым объёмом средств на кошельке.\n",
        "\n",
        "\n",
        "\n",
        "Добавьте код в метод $__int__()$ и запустите ячейку ниже."
      ],
      "metadata": {
        "id": "kvDtWbOkWlQW"
      }
    },
    {
      "cell_type": "code",
      "source": [
        "alex_wallet = Wallet(owner_name=\"Алексей Алексеев\",\n",
        "                     RUB = 100000,\n",
        "                     USD = 0,\n",
        "                     EUR = 0)\n",
        "\n",
        "print(int(alex_wallet))"
      ],
      "metadata": {
        "id": "iQMdIIEVbqcp",
        "colab": {
          "base_uri": "https://localhost:8080/"
        },
        "outputId": "2e3ac919-0a69-4d47-dba7-6c33fa91dd35"
      },
      "execution_count": 127,
      "outputs": [
        {
          "output_type": "stream",
          "name": "stdout",
          "text": [
            "1\n"
          ]
        }
      ]
    },
    {
      "cell_type": "markdown",
      "source": [
        "Вывод ячейки должен быть: 1"
      ],
      "metadata": {
        "id": "V-Tjmac4XBrr"
      }
    },
    {
      "cell_type": "markdown",
      "source": [
        "## Задание 6. Преобразование к булевым значениям\n",
        "\n",
        "Теперь преобразуем объект-кошелёк к булевым значениям True и False. Будем возвращать True, если все активы в кошельке имеют ненулевой объём.\n",
        "\n",
        "\n",
        "\n",
        "Добавьте код в метод $__bool__()$ и запустите ячейку ниже."
      ],
      "metadata": {
        "id": "07A696wDXHpt"
      }
    },
    {
      "cell_type": "code",
      "source": [
        "petr_wallet = Wallet(owner_name=\"Петр Петров\",\n",
        "                     RUB = 50000,\n",
        "                     USD = 250,\n",
        "                     EUR = 900)\n",
        "\n",
        "alex_wallet = Wallet(owner_name=\"Алексей Алексеев\",\n",
        "                     RUB = 100000,\n",
        "                     USD = 0,\n",
        "                     EUR = 0)\n",
        "\n",
        "print(bool(petr_wallet))\n",
        "print(bool(alex_wallet))"
      ],
      "metadata": {
        "id": "Au7xZbs7XF9w",
        "colab": {
          "base_uri": "https://localhost:8080/"
        },
        "outputId": "bd76195b-d228-47b8-f5db-4480d216f354"
      },
      "execution_count": 130,
      "outputs": [
        {
          "output_type": "stream",
          "name": "stdout",
          "text": [
            "True\n",
            "False\n"
          ]
        }
      ]
    },
    {
      "cell_type": "markdown",
      "source": [
        "Вывод ячейки должен быть:\n",
        "\n",
        "True\n",
        "\n",
        "False"
      ],
      "metadata": {
        "id": "jcP0p-3pYDpB"
      }
    },
    {
      "cell_type": "markdown",
      "source": [
        "## Задание 7. Сравнение кошельков\n",
        "\n",
        "Чтобы сравнить кошельки, необходимо сравнить количество денежных средств в них. Мы уже создали функцию, которая позволяет вычислить стоимость всех активов в рублях — воспользуемся ей!\n",
        "\n",
        "\n",
        "Добавьте код в методы $__eq__()$, $__lt__()$ и $__gt__()$ и запустите ячейку ниже."
      ],
      "metadata": {
        "id": "4O8YZIGPYJH9"
      }
    },
    {
      "cell_type": "code",
      "source": [
        "petr_wallet = Wallet(owner_name=\"Петр Петров\",\n",
        "                     RUB = 50000,\n",
        "                     USD = 250,\n",
        "                     EUR = 900)\n",
        "\n",
        "alex_wallet = Wallet(owner_name=\"Алексей Алексеев\",\n",
        "                     RUB = 100000,\n",
        "                     USD = 0,\n",
        "                     EUR = 0)\n",
        "\n",
        "print(petr_wallet < alex_wallet)\n",
        "print(petr_wallet == Wallet(\"undefined user\", RUB=128255.0))"
      ],
      "metadata": {
        "id": "UHDz-ecfYG1-",
        "colab": {
          "base_uri": "https://localhost:8080/"
        },
        "outputId": "ff034ff0-9f97-4aa8-bc4c-ee980e06296c"
      },
      "execution_count": 134,
      "outputs": [
        {
          "output_type": "stream",
          "name": "stdout",
          "text": [
            "False\n",
            "True\n"
          ]
        }
      ]
    },
    {
      "cell_type": "markdown",
      "source": [
        "Вывод ячейки должен быть:\n",
        "\n",
        "False\n",
        "\n",
        "True"
      ],
      "metadata": {
        "id": "r-19xjM2Z3XQ"
      }
    },
    {
      "cell_type": "markdown",
      "source": [
        "## Задание 8. Расходы\n",
        "\n",
        "Теперь реализуем простой интерфейс пользования нашим кошельком и научимся тратить с него деньги. Чтобы вывести из кошелька актив определённого объёма, вычтем из объекта-кошелька кортеж (актив, размер актива).\n",
        "\n",
        "Если размера актива недостаточно, необходимо вывести исключение ValueError с пояснением \"Недостаточно средств\".\n",
        "\n",
        "\n",
        "\n",
        "\n",
        "Добавьте код в метод $__sub__()$ и запустите ячейку ниже."
      ],
      "metadata": {
        "id": "GNe_3WOaZ8yY"
      }
    },
    {
      "cell_type": "code",
      "source": [
        "petr_wallet = Wallet(owner_name=\"Петр Петров\",\n",
        "                     RUB = 50000,\n",
        "                     USD = 250,\n",
        "                     EUR = 900)\n",
        "\n",
        "alex_wallet = Wallet(owner_name=\"Алексей Алексеев\",\n",
        "                     RUB = 100000,\n",
        "                     USD = 0,\n",
        "                     EUR = 0)\n",
        "\n",
        "petr_wallet = petr_wallet - ('USD', 50)\n",
        "print(str(petr_wallet))  # Ожидаемый вывод: Петр Петров: 50000 RUB, 200 USD, 900 EUR\n",
        "\n",
        "# Проверка недостатка средств\n",
        "try:\n",
        "    alex_wallet = alex_wallet - ('USD', 50)  # Ожидаемое исключение\n",
        "except ValueError as e:\n",
        "    print(e)  # Ожидаемый вывод: Недостаточно средств"
      ],
      "metadata": {
        "id": "I4GAU5fNZ77x",
        "colab": {
          "base_uri": "https://localhost:8080/"
        },
        "outputId": "e42fb7e1-8018-49b1-cf44-630f7686fc10"
      },
      "execution_count": 146,
      "outputs": [
        {
          "output_type": "stream",
          "name": "stdout",
          "text": [
            "Петр Петров: 50000 RUB, 200 USD, 900 EUR\n",
            "Недостаточно средств\n"
          ]
        }
      ]
    },
    {
      "cell_type": "markdown",
      "source": [
        "Вывод ячейки должен быть:\n",
        "\n",
        "Петр Петров: 50000 RUB, 250 USD, 900 EUR\n",
        "\n",
        "\n",
        "А при запуске следующей ячейки мы должны получить ошибку:"
      ],
      "metadata": {
        "id": "uHs3ZkrTa_IJ"
      }
    },
    {
      "cell_type": "code",
      "source": [
        "alex_wallet = alex_wallet - ('USD', 50)"
      ],
      "metadata": {
        "id": "-u6v3Vspa-ew"
      },
      "execution_count": null,
      "outputs": []
    },
    {
      "cell_type": "markdown",
      "source": [
        "## Задание 9. Доходы\n",
        "\n",
        "Чтобы кошелёк не опустел, его нужно пополнять. Определим сложение в двух видах:\n",
        "1. Сложение с кортежем (актив, размер актива). Действует по принципу добавления размера актива к той сумме, которая уже есть в кошельке.\n",
        "2. Объединение кошельков. Все активы правого слагаемого добавим на счёт левого кошелька.\n",
        "\n",
        "\n",
        "\n",
        "\n",
        "Добавьте код в метод $__add__()$ и запустите ячейку ниже."
      ],
      "metadata": {
        "id": "iIyFNUoVbMDj"
      }
    },
    {
      "cell_type": "code",
      "source": [
        "petr_wallet = Wallet(owner_name=\"Петр Петров\",\n",
        "                     RUB = 50000,\n",
        "                     USD = 250,\n",
        "                     EUR = 900)\n",
        "\n",
        "alex_wallet = Wallet(owner_name=\"Алексей Алексеев\",\n",
        "                     RUB = 100000,\n",
        "                     USD = 0,\n",
        "                     EUR = 0)\n",
        "\n",
        "alex_wallet = alex_wallet + ('EUR', 100)\n",
        "petr_wallet = petr_wallet + alex_wallet\n",
        "\n",
        "print(alex_wallet)\n",
        "print(petr_wallet)"
      ],
      "metadata": {
        "id": "T-4YuHAebQbe",
        "colab": {
          "base_uri": "https://localhost:8080/"
        },
        "outputId": "c7f7e870-58f1-4b6e-b283-86a0107cdbe7"
      },
      "execution_count": 151,
      "outputs": [
        {
          "output_type": "stream",
          "name": "stdout",
          "text": [
            "Алексей Алексеев: 100000 RUB, 0 USD, 100 EUR\n",
            "Петр Петров: 150000 RUB, 250 USD, 1000 EUR\n"
          ]
        }
      ]
    },
    {
      "cell_type": "markdown",
      "source": [
        "Вывод ячейки должен быть:\n",
        "\n",
        "Алексей Алексеев: 100000 RUB, 0 USD, 100 EUR\n",
        "\n",
        "Петр Петров: 150000 RUB, 200 USD, 1000 EUR"
      ],
      "metadata": {
        "id": "XwwP9QXScILV"
      }
    },
    {
      "cell_type": "markdown",
      "source": [
        "## Задание 10. Быстрый доступ\n",
        "\n",
        "Осталось сделать только одну вещь: настроить быстрый доступ для получения и присваивания размеров активов. Мы хотим пользоваться кошельком как объектом типа «словарь». Реализуйте функции, чтобы вывод ячейки совпадал с описанием ниже.\n",
        "\n",
        "\n",
        "\n",
        "Добавьте код в методы $__getitem__()$ и $__setitem__()$ и запустите ячейку ниже."
      ],
      "metadata": {
        "id": "c1HTw3tDcwQy"
      }
    },
    {
      "cell_type": "code",
      "source": [
        "petr_wallet = Wallet(owner_name=\"Петр Петров\",\n",
        "                     RUB = 50000,\n",
        "                     USD = 250,\n",
        "                     EUR = 900)\n",
        "\n",
        "print(petr_wallet['EUR'])"
      ],
      "metadata": {
        "id": "RthpA90HdOqx",
        "colab": {
          "base_uri": "https://localhost:8080/"
        },
        "outputId": "9fdbf185-2b32-4406-fe44-008ecf4062d0"
      },
      "execution_count": 160,
      "outputs": [
        {
          "output_type": "stream",
          "name": "stdout",
          "text": [
            "900\n"
          ]
        }
      ]
    },
    {
      "cell_type": "markdown",
      "source": [
        "Вывод ячейки должен быть: 1000"
      ],
      "metadata": {
        "id": "IoPCDneOdU6z"
      }
    },
    {
      "cell_type": "code",
      "source": [
        "alex_wallet = Wallet(owner_name=\"Алексей Алексеев\",\n",
        "                     RUB = 100000,\n",
        "                     USD = 0,\n",
        "                     EUR = 0)\n",
        "\n",
        "alex_wallet['USD'] = 500\n",
        "print(alex_wallet['USD'])"
      ],
      "metadata": {
        "id": "mbnIRSVwdY2B",
        "colab": {
          "base_uri": "https://localhost:8080/"
        },
        "outputId": "656276d1-0fb7-4ae5-8359-e25e8b994ec0"
      },
      "execution_count": 158,
      "outputs": [
        {
          "output_type": "stream",
          "name": "stdout",
          "text": [
            "500\n"
          ]
        }
      ]
    },
    {
      "cell_type": "markdown",
      "source": [
        "Вывод ячейки должен быть: 500"
      ],
      "metadata": {
        "id": "F__Lwlk8dg5A"
      }
    },
    {
      "cell_type": "code",
      "source": [],
      "metadata": {
        "id": "gX4lV4A9dkNG"
      },
      "execution_count": null,
      "outputs": []
    }
  ]
}