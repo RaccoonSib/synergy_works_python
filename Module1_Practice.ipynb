{
  "nbformat": 4,
  "nbformat_minor": 0,
  "metadata": {
    "colab": {
      "provenance": [],
      "include_colab_link": true
    },
    "kernelspec": {
      "name": "python3",
      "display_name": "Python 3"
    },
    "language_info": {
      "name": "python"
    }
  },
  "cells": [
    {
      "cell_type": "markdown",
      "metadata": {
        "id": "view-in-github",
        "colab_type": "text"
      },
      "source": [
        "<a href=\"https://colab.research.google.com/github/RaccoonSib/synergy_works_python/blob/main/Module1_Practice.ipynb\" target=\"_parent\"><img src=\"https://colab.research.google.com/assets/colab-badge.svg\" alt=\"Open In Colab\"/></a>"
      ]
    },
    {
      "cell_type": "markdown",
      "source": [
        "# Практическая работа №1"
      ],
      "metadata": {
        "id": "sR3bVL2LLvcm"
      }
    },
    {
      "cell_type": "markdown",
      "source": [
        "\n",
        "\n",
        "```\n",
        "# Выбран кодовый формат\n",
        "```\n",
        "\n",
        "В этом блокноте вы потренируетесь работать с основными возможностями, которые предоставляет язык Python, и вспомните темы, которые мы разбирали в модуле:\n",
        "*   переменные;\n",
        "*   базовые типы данных: int, float, str, bool;\n",
        "*   структуры данных: list, tuple, dict, set;\n",
        "*   функции и методы;\n",
        "*   форматирование строк;\n",
        "*   потоки ввода и вывода данных: экран и файл;\n",
        "*   условный оператор;\n",
        "*   циклы for и while;\n",
        "*   обработка исключений.\n",
        "\n"
      ],
      "metadata": {
        "id": "RwLztmSbL20O"
      }
    },
    {
      "cell_type": "markdown",
      "source": [
        "## Задание 1\n",
        "\n",
        "Введите с клавиатуры число с плавающей точкой и сохраните его в переменную. Для этого можно воспользоваться функцией input(), в которой аргумент — подсказка для пользователя «Введите радиус:». Именно это значение по смыслу мы будем использовать в следующих заданиях."
      ],
      "metadata": {
        "id": "uHkKc_8-0RJt"
      }
    },
    {
      "cell_type": "code",
      "source": [
        "r = float(input(\"Введите радиус:\"))"
      ],
      "metadata": {
        "id": "smegNSEQ0ngI"
      },
      "execution_count": null,
      "outputs": []
    },
    {
      "cell_type": "markdown",
      "source": [
        "Вывести значение переменной, а также тип данных значения, которое в ней хранится, можно при помощи функции print."
      ],
      "metadata": {
        "id": "Y2rehXGj0wDV"
      }
    },
    {
      "cell_type": "code",
      "source": [
        "print(r, type(r))"
      ],
      "metadata": {
        "id": "m6ZgFDRt07P8"
      },
      "execution_count": null,
      "outputs": []
    },
    {
      "cell_type": "markdown",
      "source": [
        "Тип данных в переменной отличается от типа float, потому что input всегда возвращает строковый тип данных str. Модифицируйте следующую ячейку так, чтобы тип переменной $r$ был float."
      ],
      "metadata": {
        "id": "pMYv1_VR1e-t"
      }
    },
    {
      "cell_type": "code",
      "source": [
        "r = float(input(\"Введите радиус:\")) # модифицируйте эту строку\n",
        "print(r, type(r))"
      ],
      "metadata": {
        "id": "Q4aY8ixE1eCo",
        "colab": {
          "base_uri": "https://localhost:8080/"
        },
        "outputId": "ae133467-2cea-4cbf-d94b-0497cc8210bd"
      },
      "execution_count": 3,
      "outputs": [
        {
          "output_type": "stream",
          "name": "stdout",
          "text": [
            "Введите радиус:1.23\n",
            "1.23 <class 'float'>\n"
          ]
        }
      ]
    },
    {
      "cell_type": "markdown",
      "source": [
        "При правильном применении приведения типов и вводе значения 1.23 вывод ячейки будет следующим:\n",
        "\n",
        "1.23 <class 'float'>"
      ],
      "metadata": {
        "id": "tybrQsec1xib"
      }
    },
    {
      "cell_type": "markdown",
      "source": [
        "## Задание 2\n",
        "\n",
        "Вспомним основные арифметические операции с числами. Выведите результат сложения значения в переменной $r$ и числа $6$, умножения радиуса на два (диаметр), а также квадрата радиуса."
      ],
      "metadata": {
        "id": "UlhTQN6r16qD"
      }
    },
    {
      "cell_type": "code",
      "source": [
        "# модифицируйте следующие три строчки, вписав арифметические операции в качестве второго аргумента функции\n",
        "r = float(input(\"Введите радиус:\"))\n",
        "\n",
        "# вывод результатов\n",
        "print(\"Результат операции r+6:\", r+6)\n",
        "print(\"Диаметр:\", 2*r)\n",
        "print(\"Квадрат радиуса:\", r**2)"
      ],
      "metadata": {
        "id": "DsBthoEU20Ch",
        "colab": {
          "base_uri": "https://localhost:8080/"
        },
        "outputId": "f3014b70-d274-4454-ab1b-eed77f52318d"
      },
      "execution_count": 6,
      "outputs": [
        {
          "output_type": "stream",
          "name": "stdout",
          "text": [
            "Введите радиус:1.1\n",
            "Результат операции r+6: 7.1\n",
            "Диаметр: 2.2\n",
            "Квадрат радиуса: 1.2100000000000002\n"
          ]
        }
      ]
    },
    {
      "cell_type": "markdown",
      "source": [
        "При значении $r=1.1$ вывод ячейки должен быть таким:\n",
        "\n",
        "Результат операции r+6: 7.1\n",
        "\n",
        "Диаметр: 2.2\n",
        "\n",
        "Квадрат радиуса: 1.2100000000000002"
      ],
      "metadata": {
        "id": "ORQpGFGu3Q6o"
      }
    },
    {
      "cell_type": "markdown",
      "source": [
        "## Задание 3\n",
        "\n",
        "Найдите объём шара по формуле: $V = \\frac 43 \\pi r^3$.\n",
        "\n",
        "Определим значение константы $\\pi$ и радиус шара $r$:"
      ],
      "metadata": {
        "id": "B6DYJDx9NyG8"
      }
    },
    {
      "cell_type": "code",
      "execution_count": null,
      "metadata": {
        "id": "5kVYoggILs82"
      },
      "outputs": [],
      "source": [
        "pi = 3.14\n",
        "r = 23"
      ]
    },
    {
      "cell_type": "markdown",
      "source": [
        "Запишите формулу вычисления объёма, используя арифметические операции в Python:"
      ],
      "metadata": {
        "id": "TDnlUg39SXdP"
      }
    },
    {
      "cell_type": "code",
      "source": [
        "pi = 3.14\n",
        "r = 1.5\n",
        "\n",
        "V = (4/3) * pi * r ** 3\n",
        "\n",
        "print(\"Объем шара:\", V)"
      ],
      "metadata": {
        "id": "UMNcNN1FSVfP",
        "colab": {
          "base_uri": "https://localhost:8080/"
        },
        "outputId": "ddcaa968-24f0-46c7-ccd3-d0f2790affbb"
      },
      "execution_count": 9,
      "outputs": [
        {
          "output_type": "stream",
          "name": "stdout",
          "text": [
            "Объем шара: 14.129999999999999\n"
          ]
        }
      ]
    },
    {
      "cell_type": "markdown",
      "source": [
        "Чтобы проверить правильность записанного выражения, заметим, что при подстановке $r=1.5$ объём равен $V=14.129999999999999$."
      ],
      "metadata": {
        "id": "Xno6fD1FSqfb"
      }
    },
    {
      "cell_type": "markdown",
      "source": [
        "## Задание 4\n",
        "\n",
        "Одинаковые вычисления удобно выполнять при помощи функций. Определим функцию volume, принимающую единственный аргумент — радиус. Возвращаемое значение функции — найденное значение объёма."
      ],
      "metadata": {
        "id": "tr0WB0GhUiez"
      }
    },
    {
      "cell_type": "code",
      "source": [
        "def volume(r):\n",
        "  pi = 3.14\n",
        "  V = (4/3) * pi * r ** 3\n",
        "  return V"
      ],
      "metadata": {
        "id": "g1gbkgb_VFpb"
      },
      "execution_count": null,
      "outputs": []
    },
    {
      "cell_type": "markdown",
      "source": [
        "Проверим, что результат работы функции совпал с вычисленным значением. Введите значение радиуса с клавиатуры при помощи функции input(). Затем используйте вызов функции volume внутри функции print."
      ],
      "metadata": {
        "id": "kwU3ng9yVR5l"
      }
    },
    {
      "cell_type": "code",
      "source": [
        "r = float(input('Введите значение радиуса:'))\n",
        "\n",
        "def volume(r):\n",
        "  pi = 3.14\n",
        "  V = (4/3) * pi * r ** 3\n",
        "  return V\n",
        "\n",
        "print(\"Объем шара:\", volume(r)) # вставьте вызов функции volume после запятой"
      ],
      "metadata": {
        "id": "kV_nwDZ4XSol",
        "colab": {
          "base_uri": "https://localhost:8080/"
        },
        "outputId": "8a6d365c-339d-43a9-8fd6-82aa3659604d"
      },
      "execution_count": 15,
      "outputs": [
        {
          "output_type": "stream",
          "name": "stdout",
          "text": [
            "Введите значение радиуса:1.5\n",
            "Объем шара: 14.129999999999999\n"
          ]
        }
      ]
    },
    {
      "cell_type": "markdown",
      "source": [
        "Убедитесь, что при вводе значения 1.5 вывод функции print в этой ячейке полностью совпадает с выводом в задании 3."
      ],
      "metadata": {
        "id": "5kOCYOZ4XaS5"
      }
    },
    {
      "cell_type": "markdown",
      "source": [
        "## Задание 5\n",
        "\n",
        "Представим, что у нас теперь не единственный шар, а целых десять. Радиус первого шарика $r=1$. Радиус второго шарика в 1,5 раза больше первого. И так будем увеличивать радиусы шариков в 1,5 раза, пока не дойдём до последнего. Найдите объёмы всех шаров.\n",
        "\n",
        "Первым шагом найдём радиусы всех шаров и сохраним их в список."
      ],
      "metadata": {
        "id": "Dg0gH4tZYBSd"
      }
    },
    {
      "cell_type": "code",
      "source": [
        "radius_list = [1]\n",
        "\n",
        "for i in range(9):\n",
        "  new_radius = radius_list[-1]*1.5\n",
        "  radius_list.append(new_radius)\n",
        "\n",
        "print(\"Радиусы шаров:\", radius_list)"
      ],
      "metadata": {
        "colab": {
          "base_uri": "https://localhost:8080/"
        },
        "id": "1ETreF9EXsWL",
        "outputId": "1b286113-3099-4e4c-d17e-e0cd7e0fad78"
      },
      "execution_count": 17,
      "outputs": [
        {
          "output_type": "stream",
          "name": "stdout",
          "text": [
            "Радиусы шаров: [1, 1.5, 2.25, 3.375, 5.0625, 7.59375, 11.390625, 17.0859375, 25.62890625, 38.443359375]\n"
          ]
        }
      ]
    },
    {
      "cell_type": "markdown",
      "source": [
        "Радиус первого шара известен, поэтому определим список, в котором это значение уже присутствует. После чего определим цикл, который совершает девять итераций (аргумент функции range). Таким образом мы получим десять значений радиуса.\n",
        "\n",
        "На каждой итерации мы находим последнее значение списка, подставляя индекс -1, и умножаем его на 1,5, чтобы найти новый радиус. После чего мы должны добавить новое значение в список при помощи метода списков append.\n",
        "\n",
        "---"
      ],
      "metadata": {
        "id": "pBy0Udr9Za5A"
      }
    },
    {
      "cell_type": "markdown",
      "source": [
        "Наконец определим список, в котором будут храниться объёмы шаров. Вычислите объёмы внутри цикла при помощи функции, которую написали в задании 4."
      ],
      "metadata": {
        "id": "xCqlVqTubmvW"
      }
    },
    {
      "cell_type": "code",
      "source": [
        "# Определяем начальный радиус\n",
        "radius_list = [1]\n",
        "\n",
        "# Вычисляем радиусы шаров\n",
        "for i in range(9):\n",
        "    new_radius = radius_list[-1] * 1.5\n",
        "    radius_list.append(new_radius)\n",
        "\n",
        "# Функция для вычисления объема шара\n",
        "def volume(r):\n",
        "    pi = 3.14\n",
        "    V = (4/3) * pi * r ** 3\n",
        "    return V\n",
        "\n",
        "# Список для хранения объемов шаров\n",
        "volume_list = []\n",
        "\n",
        "# Вычисляем объемы для каждого радиуса\n",
        "for radius in radius_list:\n",
        "    vol = volume(radius)\n",
        "    volume_list.append(vol)\n",
        "\n",
        "print(\"Объемы шаров:\", volume_list)"
      ],
      "metadata": {
        "id": "_Y8hw6ZaZWrO",
        "colab": {
          "base_uri": "https://localhost:8080/"
        },
        "outputId": "9e72b396-ac9c-4dbd-da93-0cda5debfa4f"
      },
      "execution_count": 19,
      "outputs": [
        {
          "output_type": "stream",
          "name": "stdout",
          "text": [
            "Объемы шаров: [4.1866666666666665, 14.129999999999999, 47.68875, 160.94953125, 543.20466796875, 1833.3157543945313, 6187.440671081543, 20882.612264900206, 70478.8163940382, 237866.0053298789]\n"
          ]
        }
      ]
    },
    {
      "cell_type": "markdown",
      "source": [
        "Вывод ячейки должен содержать:\n",
        "\n",
        "Объёмы шаров: [4.1866666666666665, 14.129999999999999, 47.68875, 160.94953125, 543.20466796875, 1833.3157543945313, 6187.440671081543, 20882.612264900206, 70478.8163940382, 237866.0053298789]"
      ],
      "metadata": {
        "id": "xgd0vkZScQQX"
      }
    },
    {
      "cell_type": "markdown",
      "source": [
        "## Задание 6\n",
        "\n",
        "Вывод значений в предыдущих заданиях трудночитаемый. В этом задании сделаем вывод красивым и удобным для чтения.\n",
        "\n",
        "Выведите в каждой строке значение радиуса шара и его объём."
      ],
      "metadata": {
        "id": "G3GLv2nWderU"
      }
    },
    {
      "cell_type": "code",
      "source": [
        "for i in range(10):\n",
        "  print(\"Радиус шара: %f. Объем шара: %f\" % (radius_list[i], volume_list[i]))"
      ],
      "metadata": {
        "colab": {
          "base_uri": "https://localhost:8080/"
        },
        "id": "Wj-WNY2XcDNb",
        "outputId": "c460ad5a-8e62-472e-f9e5-5b1efc4b9c63"
      },
      "execution_count": 21,
      "outputs": [
        {
          "output_type": "stream",
          "name": "stdout",
          "text": [
            "Радиус шара: 1.000000. Объем шара: 4.186667\n",
            "Радиус шара: 1.500000. Объем шара: 14.130000\n",
            "Радиус шара: 2.250000. Объем шара: 47.688750\n",
            "Радиус шара: 3.375000. Объем шара: 160.949531\n",
            "Радиус шара: 5.062500. Объем шара: 543.204668\n",
            "Радиус шара: 7.593750. Объем шара: 1833.315754\n",
            "Радиус шара: 11.390625. Объем шара: 6187.440671\n",
            "Радиус шара: 17.085938. Объем шара: 20882.612265\n",
            "Радиус шара: 25.628906. Объем шара: 70478.816394\n",
            "Радиус шара: 38.443359. Объем шара: 237866.005330\n"
          ]
        }
      ]
    },
    {
      "cell_type": "markdown",
      "source": [
        "Так выглядит намного лучше! Однако можно сделать ещё красивее, если ограничить количество знаков после запятой (например, до двух) и выделить под каждое значение пространство минимум в десять символов."
      ],
      "metadata": {
        "id": "LC_DWtBEeZzU"
      }
    },
    {
      "cell_type": "code",
      "source": [
        "for i in range(10):\n",
        "  print(\"Радиус шара: %10.2f. Объем шара: %10.2f\" % (radius_list[i], volume_list[i]))"
      ],
      "metadata": {
        "colab": {
          "base_uri": "https://localhost:8080/"
        },
        "id": "LQmHucVUeXub",
        "outputId": "e0bc8310-d70f-446b-983e-0d1b72508f05"
      },
      "execution_count": 28,
      "outputs": [
        {
          "output_type": "stream",
          "name": "stdout",
          "text": [
            "Радиус шара:       1.00. Объем шара:       4.19\n",
            "Радиус шара:       1.50. Объем шара:      14.13\n",
            "Радиус шара:       2.25. Объем шара:      47.69\n",
            "Радиус шара:       3.38. Объем шара:     160.95\n",
            "Радиус шара:       5.06. Объем шара:     543.20\n",
            "Радиус шара:       7.59. Объем шара:    1833.32\n",
            "Радиус шара:      11.39. Объем шара:    6187.44\n",
            "Радиус шара:      17.09. Объем шара:   20882.61\n",
            "Радиус шара:      25.63. Объем шара:   70478.82\n",
            "Радиус шара:      38.44. Объем шара:  237866.01\n"
          ]
        }
      ]
    },
    {
      "cell_type": "markdown",
      "source": [
        "Для форматирования строк можно использовать не только %-форматирование, но и f-строки. Вспомните, как они используются, и добавьте код в следующей ячейке."
      ],
      "metadata": {
        "id": "cefe1RQ-e7BG"
      }
    },
    {
      "cell_type": "code",
      "source": [
        "for i in range(10):\n",
        "  print(f\"Радиус шара: {radius_list[i]:>10.2f}. Объем шара: {volume_list[i]:>10.2f}\")"
      ],
      "metadata": {
        "colab": {
          "base_uri": "https://localhost:8080/"
        },
        "id": "zZVD9JRIet3N",
        "outputId": "b9904e6b-2b93-4d23-d218-484bc9fe12b6"
      },
      "execution_count": 30,
      "outputs": [
        {
          "output_type": "stream",
          "name": "stdout",
          "text": [
            "Радиус шара:       1.00. Объем шара:       4.19\n",
            "Радиус шара:       1.50. Объем шара:      14.13\n",
            "Радиус шара:       2.25. Объем шара:      47.69\n",
            "Радиус шара:       3.38. Объем шара:     160.95\n",
            "Радиус шара:       5.06. Объем шара:     543.20\n",
            "Радиус шара:       7.59. Объем шара:    1833.32\n",
            "Радиус шара:      11.39. Объем шара:    6187.44\n",
            "Радиус шара:      17.09. Объем шара:   20882.61\n",
            "Радиус шара:      25.63. Объем шара:   70478.82\n",
            "Радиус шара:      38.44. Объем шара:  237866.01\n"
          ]
        }
      ]
    },
    {
      "cell_type": "markdown",
      "source": [
        "Вывод этой ячейки должен полностью совпадать с предыдущей."
      ],
      "metadata": {
        "id": "_wgSVBoKgFcg"
      }
    },
    {
      "cell_type": "markdown",
      "source": [
        "## Задание 7\n",
        "\n",
        "Сохраним вычисленные значения в файл.\n",
        "\n",
        "Пользуясь менеджером контекста with..as, откроем файл 'write_results.txt' в режиме записи 'w'. Для записи в файл воспользуемся методом write()."
      ],
      "metadata": {
        "id": "UhkGH2KcgICP"
      }
    },
    {
      "cell_type": "code",
      "source": [
        "with open('write_results.txt', 'w') as file:\n",
        "  for i in range(10):\n",
        "    file.write(\"%.2f %.2f\\n\" % (radius_list[i], volume_list[i]))"
      ],
      "metadata": {
        "id": "fkSoxKBmf8pH"
      },
      "execution_count": 31,
      "outputs": []
    },
    {
      "cell_type": "markdown",
      "source": [
        "При записи в файл необходимо помнить о символе переноса строки, потому что Python не подставляет его автоматически при использовании метода write(). При форматировании также ограничимся лишь отсечением знаков после точки до второго знака."
      ],
      "metadata": {
        "id": "kIMNVNObkvtg"
      }
    },
    {
      "cell_type": "markdown",
      "source": [
        "Для записи в файл может также использоваться функция print(). Вспомните, какие особенности использования есть у неё при записи в файл, и сохраните данные в новый файл 'print_results.txt'."
      ],
      "metadata": {
        "id": "yGsis8_wlolU"
      }
    },
    {
      "cell_type": "markdown",
      "source": [],
      "metadata": {
        "id": "sODUaYJH4KLB"
      }
    },
    {
      "cell_type": "code",
      "source": [
        "# Запись в файл с использованием функции print()\n",
        "with open('print_results.txt', 'w') as file:\n",
        "    for i in range(10):\n",
        "        print(f\"{radius_list[i]:.2f} {volume_list[i]:.2f}\", file=file)\n",
        "\n",
        "# Проверка содержимого файлов\n",
        "with open('write_results.txt', 'r') as file1, open('print_results.txt', 'r') as file2:\n",
        "    write_content = file1.read()\n",
        "    print_content = file2.read()\n",
        "\n",
        "# Сравнение содержимого файлов\n",
        "if write_content == print_content:\n",
        "    print(\"Содержимое файлов совпадает.\")\n",
        "else:\n",
        "    print(\"Содержимое файлов не совпадает.\")"
      ],
      "metadata": {
        "id": "4bbH_BwPkjb4",
        "colab": {
          "base_uri": "https://localhost:8080/"
        },
        "outputId": "d143edf2-f470-41a2-ee95-a7b4c99f1464"
      },
      "execution_count": 33,
      "outputs": [
        {
          "output_type": "stream",
          "name": "stdout",
          "text": [
            "Содержимое файлов совпадает.\n"
          ]
        }
      ]
    },
    {
      "cell_type": "markdown",
      "source": [
        "Убедитесь, что содержимое файлов совпадает."
      ],
      "metadata": {
        "id": "TIfHGBPAlxnw"
      }
    },
    {
      "cell_type": "markdown",
      "source": [
        "## Задание 8\n",
        "\n",
        "Потренируемся в чтении файлов. Откроем любой из созданных файлов 'write_results.txt' или 'print_results.txt' в режиме чтения 'r'. Затем сохраним строки файла в список.  "
      ],
      "metadata": {
        "id": "vydaB-Nel7Yj"
      }
    },
    {
      "cell_type": "code",
      "source": [
        "with open('write_results.txt', 'r') as file:\n",
        "  rows = file.readlines()\n",
        "\n",
        "print(rows)"
      ],
      "metadata": {
        "colab": {
          "base_uri": "https://localhost:8080/"
        },
        "id": "p7D4c7yFl9Ol",
        "outputId": "fcbdca46-fa15-4047-a9e3-3787f35b0546"
      },
      "execution_count": null,
      "outputs": [
        {
          "output_type": "stream",
          "name": "stdout",
          "text": [
            "['1.00 4.19\\n', '1.50 14.13\\n', '2.25 47.69\\n', '3.38 160.95\\n', '5.06 543.20\\n', '7.59 1833.32\\n', '11.39 6187.44\\n', '17.09 20882.61\\n', '25.63 70478.82\\n', '38.44 237866.01\\n']\n"
          ]
        }
      ]
    },
    {
      "cell_type": "markdown",
      "source": [
        "Полученные строки имеют несколько особенностей. Во-первых, в конце каждого элемента списка есть символ переноса строки '\\n'. Во-вторых, каждый элемент списка содержит два значения.\n",
        "\n",
        "Преобразуйте список следующим образом:\n",
        "*  при помощи строкового метода strip() удалите символ переноса из конца строки;\n",
        "*  при помощи метода split() разбейте каждую строку на две подстроки по знаку пробела;\n",
        "*  сохраните первое значение в список 'first_array', а второе — в список 'second_array';\n",
        "*  не забудьте преобразовать подстроки в числа, используя явное приведение типов."
      ],
      "metadata": {
        "id": "rjlqyH7XoRW8"
      }
    },
    {
      "cell_type": "code",
      "source": [
        "with open('write_results.txt', 'r') as file:\n",
        "  rows = file.readlines()\n",
        "\n",
        "print(rows)\n",
        "\n",
        "first_array = []\n",
        "second_array = []\n",
        "\n",
        "for row in rows:\n",
        "    clean_row = row.strip()  # Удаляем символ переноса\n",
        "    substrings = clean_row.split()  # Разбиваем строку на подстроки\n",
        "    first_array.append(float(substrings[0]))  # Преобразуем и добавляем в первый список\n",
        "    second_array.append(float(substrings[1]))  # Преобразуем и добавляем во второй список\n",
        "\n",
        "print(first_array)\n",
        "print(second_array)"
      ],
      "metadata": {
        "id": "n0daSvKNno8q",
        "colab": {
          "base_uri": "https://localhost:8080/"
        },
        "outputId": "d3f80bee-5d98-4551-e3af-fa5126b63ca3"
      },
      "execution_count": 35,
      "outputs": [
        {
          "output_type": "stream",
          "name": "stdout",
          "text": [
            "['1.00 4.19\\n', '1.50 14.13\\n', '2.25 47.69\\n', '3.38 160.95\\n', '5.06 543.20\\n', '7.59 1833.32\\n', '11.39 6187.44\\n', '17.09 20882.61\\n', '25.63 70478.82\\n', '38.44 237866.01\\n']\n",
            "[1.0, 1.5, 2.25, 3.38, 5.06, 7.59, 11.39, 17.09, 25.63, 38.44]\n",
            "[4.19, 14.13, 47.69, 160.95, 543.2, 1833.32, 6187.44, 20882.61, 70478.82, 237866.01]\n"
          ]
        }
      ]
    },
    {
      "cell_type": "markdown",
      "source": [
        "## Задание 9\n",
        "\n",
        "Воспользуйтесь условным оператором, чтобы определить, в каком массиве (radius_list или first_array) сумма значений больше."
      ],
      "metadata": {
        "id": "jy68y7C63_GR"
      }
    },
    {
      "cell_type": "code",
      "source": [
        "sum_radius_list = sum(radius_list)\n",
        "sum_first_array = sum(first_array)\n",
        "\n",
        "# Используем условный оператор для сравнения сумм\n",
        "if sum_radius_list > sum_first_array:\n",
        "    print(\"Сумма radius_list больше суммы first_array\")\n",
        "else:\n",
        "    print(\"Сумма radius_list НЕ больше суммы first_array\")"
      ],
      "metadata": {
        "id": "RFzEg-fg3-bz",
        "colab": {
          "base_uri": "https://localhost:8080/"
        },
        "outputId": "9e769e8e-60c1-43a3-8868-26f9948f2ee6"
      },
      "execution_count": 36,
      "outputs": [
        {
          "output_type": "stream",
          "name": "stdout",
          "text": [
            "Сумма radius_list больше суммы first_array\n"
          ]
        }
      ]
    },
    {
      "cell_type": "markdown",
      "source": [
        "Здесь мы воспользовались встроенной функцией sum для нахождения суммы элементов списка."
      ],
      "metadata": {
        "id": "M1tAOeK140yO"
      }
    },
    {
      "cell_type": "markdown",
      "source": [
        "## Задание 10\n",
        "\n",
        "Выведите все значения радиусов из первого списка 'first_array', пока сумма объёмов шаров меньше 1000.\n",
        "\n",
        "Сначала воспользуемся циклом for, в котором на каждой итерации будем обновлять переменную sum_of_volumes (сумма объёмов):"
      ],
      "metadata": {
        "id": "HM6t6pOdrFxe"
      }
    },
    {
      "cell_type": "code",
      "source": [
        "sum_of_volumes = 0\n",
        "for i in range(10):\n",
        "  sum_of_volumes += second_array[i]\n",
        "  if sum_of_volumes < 1000:\n",
        "    print(\"Радиус шара: %f. Сумма объемов: %f\" % (first_array[i], sum_of_volumes))\n",
        "  else:\n",
        "    break"
      ],
      "metadata": {
        "colab": {
          "base_uri": "https://localhost:8080/"
        },
        "id": "mX7nbn1AqctG",
        "outputId": "0eb9f31e-a285-4dcd-89de-7b15b7b11db0"
      },
      "execution_count": null,
      "outputs": [
        {
          "output_type": "stream",
          "name": "stdout",
          "text": [
            "Радиус шара: 1.000000. Сумма объемов: 4.190000\n",
            "Радиус шара: 1.500000. Сумма объемов: 18.320000\n",
            "Радиус шара: 2.250000. Сумма объемов: 66.010000\n",
            "Радиус шара: 3.380000. Сумма объемов: 226.960000\n",
            "Радиус шара: 5.060000. Сумма объемов: 770.160000\n"
          ]
        }
      ]
    },
    {
      "cell_type": "markdown",
      "source": [
        "На каждой итерации цикла мы дополнительно проверяем условие задания. Если оно истинно (сумма объёмов меньше 1000), то выводим необходимый результат. Если оно ложно, то цикл завершает свою работу при помощи оператора break.\n",
        "\n",
        "Для этой задачи можно воспользоваться циклом while, который уже в своём определении содержит условие. Напишите алгоритм при помощи цикла while, который выполнял бы ту же самую задачу."
      ],
      "metadata": {
        "id": "KP8F59KXtD4H"
      }
    },
    {
      "cell_type": "code",
      "source": [
        "sum_of_volumes = 0\n",
        "i = 0\n",
        "while sum_of_volumes < 1000 and i < len(first_array):\n",
        "    sum_of_volumes += second_array[i]\n",
        "    if sum_of_volumes < 1000:\n",
        "        print(\"Радиус шара: %f. Сумма объемов: %f\" % (first_array[i], sum_of_volumes))\n",
        "    i += 1"
      ],
      "metadata": {
        "id": "2RzyXkPqsT1W",
        "colab": {
          "base_uri": "https://localhost:8080/"
        },
        "outputId": "9401b09e-ab80-49b2-fb7f-9cee489a94cc"
      },
      "execution_count": 37,
      "outputs": [
        {
          "output_type": "stream",
          "name": "stdout",
          "text": [
            "Радиус шара: 1.000000. Сумма объемов: 4.190000\n",
            "Радиус шара: 1.500000. Сумма объемов: 18.320000\n",
            "Радиус шара: 2.250000. Сумма объемов: 66.010000\n",
            "Радиус шара: 3.380000. Сумма объемов: 226.960000\n",
            "Радиус шара: 5.060000. Сумма объемов: 770.160000\n"
          ]
        }
      ]
    },
    {
      "cell_type": "markdown",
      "source": [
        "Цикл while не меняет значение каких-либо переменных автоматически, поэтому необходимо вручную дополнительно определить переменную индекса и увеличивать её на единицу во время каждой итерации.\n",
        "\n",
        "\n",
        "Если возникают сложности с циклом while, обратитесь к следующему примеру.\n",
        "\n",
        "\n",
        "\n",
        "Этот цикл while будет запрашивать у пользователя строку и выводить её, пока не встретится строка \"exit\":"
      ],
      "metadata": {
        "id": "-pPReFfHzjPR"
      }
    },
    {
      "cell_type": "code",
      "source": [
        "i = 0\n",
        "while input(\"Введите строку: \") != \"exit\":\n",
        "    i += 1\n",
        "    print(f\"Строка №{i}\")\n",
        "\n",
        "print(\"Всего было введено строк:\", i)"
      ],
      "metadata": {
        "id": "WHVmhOtL5YgR",
        "colab": {
          "base_uri": "https://localhost:8080/"
        },
        "outputId": "a4d65865-3d53-4d09-d222-4dadd2ff3663"
      },
      "execution_count": 38,
      "outputs": [
        {
          "output_type": "stream",
          "name": "stdout",
          "text": [
            "Введите строку: 1\n",
            "Строка №1\n",
            "Введите строку: 2\n",
            "Строка №2\n",
            "Введите строку: 3\n",
            "Строка №3\n",
            "Введите строку: 4\n",
            "Строка №4\n",
            "Введите строку: 5\n",
            "Строка №5\n",
            "Введите строку: 6\n",
            "Строка №6\n",
            "Введите строку: 7\n",
            "Строка №7\n",
            "Введите строку: exit\n",
            "Всего было введено строк: 7\n"
          ]
        }
      ]
    },
    {
      "cell_type": "markdown",
      "source": [
        "Запустите ячейку и посмотрите, как она работает."
      ],
      "metadata": {
        "id": "Lpacyzim6VyK"
      }
    }
  ]
}